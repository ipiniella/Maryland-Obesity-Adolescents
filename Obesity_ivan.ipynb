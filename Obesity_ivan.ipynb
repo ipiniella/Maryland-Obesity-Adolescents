{
 "cells": [
  {
   "cell_type": "markdown",
   "id": "d5e51942-089a-4dc3-a445-46ec85238280",
   "metadata": {},
   "source": [
    "# Obesity Project Adolescents "
   ]
  },
  {
   "cell_type": "markdown",
   "id": "985c3b72-c711-4217-a2cd-e47719807c14",
   "metadata": {},
   "source": [
    "#### SHIP Adolescents Who Have Obesity 2010, 2013-2014, 2016, 2018, 2021 in Maryland"
   ]
  },
  {
   "cell_type": "code",
   "execution_count": null,
   "id": "cd8e3a9e-7f88-4408-b3ab-c345ed5d1234",
   "metadata": {},
   "outputs": [],
   "source": [
    "# Load the data and store it in dataframe df:\n"
   ]
  },
  {
   "cell_type": "code",
   "execution_count": 1,
   "id": "223db91f-73c1-4861-b85a-5823d8f42998",
   "metadata": {},
   "outputs": [
    {
     "name": "stdout",
     "output_type": "stream",
     "text": [
      "Requirement already satisfied: requests in c:\\users\\ivanp\\anaconda3\\lib\\site-packages (2.32.3)\n",
      "Requirement already satisfied: charset-normalizer<4,>=2 in c:\\users\\ivanp\\anaconda3\\lib\\site-packages (from requests) (3.3.2)\n",
      "Requirement already satisfied: idna<4,>=2.5 in c:\\users\\ivanp\\anaconda3\\lib\\site-packages (from requests) (3.7)\n",
      "Requirement already satisfied: urllib3<3,>=1.21.1 in c:\\users\\ivanp\\anaconda3\\lib\\site-packages (from requests) (2.2.3)\n",
      "Requirement already satisfied: certifi>=2017.4.17 in c:\\users\\ivanp\\anaconda3\\lib\\site-packages (from requests) (2025.1.31)\n"
     ]
    }
   ],
   "source": [
    "!pip install requests\n",
    "\n",
    "\n"
   ]
  },
  {
   "cell_type": "code",
   "execution_count": 3,
   "id": "8c68b91d-f08d-498d-92aa-9c163d51d123",
   "metadata": {},
   "outputs": [],
   "source": [
    "import requests\n",
    "\n",
    "url = \"https://opendata.maryland.gov/api/views/hedp-3fxm/rows.csv?accessType=DOWNLOAD\"\n",
    "r = requests.get(url)\n",
    "with open(\"file.csv\", \"wb\") as f:\n",
    "    f.write(r.content)\n"
   ]
  },
  {
   "cell_type": "code",
   "execution_count": 7,
   "id": "2640bfa7-e8bb-4349-97b0-8b8f4bb0a952",
   "metadata": {},
   "outputs": [],
   "source": [
    "# Importing libraries"
   ]
  },
  {
   "cell_type": "code",
   "execution_count": 5,
   "id": "a6d58bf2-9a07-4d10-a2f1-cb86a02fc34d",
   "metadata": {},
   "outputs": [],
   "source": [
    "import pandas as pd"
   ]
  },
  {
   "cell_type": "code",
   "execution_count": 7,
   "id": "3012ae87-f2b1-4612-a675-51f3aa1779cf",
   "metadata": {},
   "outputs": [],
   "source": [
    "import numpy as np"
   ]
  },
  {
   "cell_type": "code",
   "execution_count": 9,
   "id": "50904bb1-7332-447f-b099-368959641a9c",
   "metadata": {},
   "outputs": [],
   "source": [
    "import matplotlib as plt"
   ]
  },
  {
   "cell_type": "code",
   "execution_count": 11,
   "id": "b45815be-224e-48dc-a592-91cf8325b445",
   "metadata": {},
   "outputs": [],
   "source": [
    "import seaborn as sns"
   ]
  },
  {
   "cell_type": "code",
   "execution_count": 13,
   "id": "0b8b8090-34f4-4eac-aaf8-89b9438fd5dd",
   "metadata": {},
   "outputs": [],
   "source": [
    "# Reading Adolescents File"
   ]
  },
  {
   "cell_type": "code",
   "execution_count": 15,
   "id": "7a233dec-0438-4ba9-8de9-e0c3af245f22",
   "metadata": {},
   "outputs": [
    {
     "data": {
      "text/html": [
       "<div>\n",
       "<style scoped>\n",
       "    .dataframe tbody tr th:only-of-type {\n",
       "        vertical-align: middle;\n",
       "    }\n",
       "\n",
       "    .dataframe tbody tr th {\n",
       "        vertical-align: top;\n",
       "    }\n",
       "\n",
       "    .dataframe thead th {\n",
       "        text-align: right;\n",
       "    }\n",
       "</style>\n",
       "<table border=\"1\" class=\"dataframe\">\n",
       "  <thead>\n",
       "    <tr style=\"text-align: right;\">\n",
       "      <th></th>\n",
       "      <th>Jurisdiction</th>\n",
       "      <th>Value</th>\n",
       "      <th>Race/ ethnicity</th>\n",
       "      <th>Year</th>\n",
       "      <th>Measure</th>\n",
       "    </tr>\n",
       "  </thead>\n",
       "  <tbody>\n",
       "    <tr>\n",
       "      <th>0</th>\n",
       "      <td>State</td>\n",
       "      <td>12.6</td>\n",
       "      <td>All races/ ethnicities (aggregated)</td>\n",
       "      <td>2016</td>\n",
       "      <td>Adolescents with Obesity</td>\n",
       "    </tr>\n",
       "    <tr>\n",
       "      <th>1</th>\n",
       "      <td>Allegany</td>\n",
       "      <td>16.1</td>\n",
       "      <td>All races/ ethnicities (aggregated)</td>\n",
       "      <td>2016</td>\n",
       "      <td>Adolescents with Obesity</td>\n",
       "    </tr>\n",
       "    <tr>\n",
       "      <th>2</th>\n",
       "      <td>Anne Arundel</td>\n",
       "      <td>13.0</td>\n",
       "      <td>All races/ ethnicities (aggregated)</td>\n",
       "      <td>2016</td>\n",
       "      <td>Adolescents with Obesity</td>\n",
       "    </tr>\n",
       "    <tr>\n",
       "      <th>3</th>\n",
       "      <td>Baltimore City</td>\n",
       "      <td>19.0</td>\n",
       "      <td>All races/ ethnicities (aggregated)</td>\n",
       "      <td>2016</td>\n",
       "      <td>Adolescents with Obesity</td>\n",
       "    </tr>\n",
       "    <tr>\n",
       "      <th>4</th>\n",
       "      <td>Baltimore County</td>\n",
       "      <td>14.7</td>\n",
       "      <td>All races/ ethnicities (aggregated)</td>\n",
       "      <td>2016</td>\n",
       "      <td>Adolescents with Obesity</td>\n",
       "    </tr>\n",
       "  </tbody>\n",
       "</table>\n",
       "</div>"
      ],
      "text/plain": [
       "       Jurisdiction  Value                      Race/ ethnicity  Year  \\\n",
       "0             State   12.6  All races/ ethnicities (aggregated)  2016   \n",
       "1          Allegany   16.1  All races/ ethnicities (aggregated)  2016   \n",
       "2      Anne Arundel   13.0  All races/ ethnicities (aggregated)  2016   \n",
       "3    Baltimore City   19.0  All races/ ethnicities (aggregated)  2016   \n",
       "4  Baltimore County   14.7  All races/ ethnicities (aggregated)  2016   \n",
       "\n",
       "                    Measure  \n",
       "0  Adolescents with Obesity  \n",
       "1  Adolescents with Obesity  \n",
       "2  Adolescents with Obesity  \n",
       "3  Adolescents with Obesity  \n",
       "4  Adolescents with Obesity  "
      ]
     },
     "execution_count": 15,
     "metadata": {},
     "output_type": "execute_result"
    }
   ],
   "source": [
    "df = pd.read_csv(url)\n",
    "df.head()"
   ]
  },
  {
   "cell_type": "code",
   "execution_count": null,
   "id": "1a8e2b35-f0b7-4b68-80d7-29e209b933b9",
   "metadata": {},
   "outputs": [],
   "source": [
    "# Information about the Dataset"
   ]
  },
  {
   "cell_type": "code",
   "execution_count": 17,
   "id": "aacc2685-a433-47c8-8d59-91d05222b092",
   "metadata": {},
   "outputs": [
    {
     "name": "stdout",
     "output_type": "stream",
     "text": [
      "<class 'pandas.core.frame.DataFrame'>\n",
      "RangeIndex: 658 entries, 0 to 657\n",
      "Data columns (total 5 columns):\n",
      " #   Column           Non-Null Count  Dtype  \n",
      "---  ------           --------------  -----  \n",
      " 0   Jurisdiction     658 non-null    object \n",
      " 1   Value            551 non-null    float64\n",
      " 2   Race/ ethnicity  658 non-null    object \n",
      " 3   Year             658 non-null    int64  \n",
      " 4   Measure          658 non-null    object \n",
      "dtypes: float64(1), int64(1), object(3)\n",
      "memory usage: 25.8+ KB\n"
     ]
    }
   ],
   "source": [
    "df.info()"
   ]
  },
  {
   "cell_type": "code",
   "execution_count": 30,
   "id": "a67de30b-5e11-42b4-82b8-1694ac090d34",
   "metadata": {},
   "outputs": [],
   "source": [
    "# Searching for missing data"
   ]
  },
  {
   "cell_type": "code",
   "execution_count": 19,
   "id": "03823e79-812b-419c-8d42-532f6d644a7e",
   "metadata": {},
   "outputs": [
    {
     "name": "stdout",
     "output_type": "stream",
     "text": [
      "   Jurisdiction  Value  Race/ ethnicity   Year  Measure\n",
      "0         False  False            False  False    False\n",
      "1         False  False            False  False    False\n",
      "2         False  False            False  False    False\n",
      "3         False  False            False  False    False\n",
      "4         False  False            False  False    False\n",
      "Jurisdiction\n",
      "Jurisdiction\n",
      "False    658\n",
      "Name: count, dtype: int64\n",
      "\n",
      "Value\n",
      "Value\n",
      "False    551\n",
      "True     107\n",
      "Name: count, dtype: int64\n",
      "\n",
      "Race/ ethnicity\n",
      "Race/ ethnicity\n",
      "False    658\n",
      "Name: count, dtype: int64\n",
      "\n",
      "Year\n",
      "Year\n",
      "False    658\n",
      "Name: count, dtype: int64\n",
      "\n",
      "Measure\n",
      "Measure\n",
      "False    658\n",
      "Name: count, dtype: int64\n",
      "\n"
     ]
    }
   ],
   "source": [
    "missing_data = df.isnull()\n",
    "print(missing_data.head())\n",
    "for column in missing_data.columns.values.tolist():\n",
    "    print(column)\n",
    "    print (missing_data[column].value_counts())\n",
    "    print(\"\")"
   ]
  },
  {
   "cell_type": "code",
   "execution_count": 15,
   "id": "3cc70e4d-a8a7-40e4-8661-c0d4da3e5730",
   "metadata": {},
   "outputs": [],
   "source": [
    "# Now we need to clean the data and complete the NaN for the mean or frequency values"
   ]
  },
  {
   "cell_type": "code",
   "execution_count": 37,
   "id": "e64d0ab9-8dcb-443d-b6d2-4c21262fe010",
   "metadata": {},
   "outputs": [
    {
     "data": {
      "text/html": [
       "<div>\n",
       "<style scoped>\n",
       "    .dataframe tbody tr th:only-of-type {\n",
       "        vertical-align: middle;\n",
       "    }\n",
       "\n",
       "    .dataframe tbody tr th {\n",
       "        vertical-align: top;\n",
       "    }\n",
       "\n",
       "    .dataframe thead th {\n",
       "        text-align: right;\n",
       "    }\n",
       "</style>\n",
       "<table border=\"1\" class=\"dataframe\">\n",
       "  <thead>\n",
       "    <tr style=\"text-align: right;\">\n",
       "      <th></th>\n",
       "      <th>Jurisdiction</th>\n",
       "      <th>Value</th>\n",
       "      <th>Race/ ethnicity</th>\n",
       "      <th>Year</th>\n",
       "      <th>Measure</th>\n",
       "    </tr>\n",
       "  </thead>\n",
       "  <tbody>\n",
       "    <tr>\n",
       "      <th>0</th>\n",
       "      <td>State</td>\n",
       "      <td>12.6</td>\n",
       "      <td>All races/ ethnicities (aggregated)</td>\n",
       "      <td>2016</td>\n",
       "      <td>Adolescents with Obesity</td>\n",
       "    </tr>\n",
       "    <tr>\n",
       "      <th>1</th>\n",
       "      <td>Allegany</td>\n",
       "      <td>16.1</td>\n",
       "      <td>All races/ ethnicities (aggregated)</td>\n",
       "      <td>2016</td>\n",
       "      <td>Adolescents with Obesity</td>\n",
       "    </tr>\n",
       "    <tr>\n",
       "      <th>2</th>\n",
       "      <td>Anne Arundel</td>\n",
       "      <td>13.0</td>\n",
       "      <td>All races/ ethnicities (aggregated)</td>\n",
       "      <td>2016</td>\n",
       "      <td>Adolescents with Obesity</td>\n",
       "    </tr>\n",
       "    <tr>\n",
       "      <th>3</th>\n",
       "      <td>Baltimore City</td>\n",
       "      <td>19.0</td>\n",
       "      <td>All races/ ethnicities (aggregated)</td>\n",
       "      <td>2016</td>\n",
       "      <td>Adolescents with Obesity</td>\n",
       "    </tr>\n",
       "    <tr>\n",
       "      <th>4</th>\n",
       "      <td>Baltimore County</td>\n",
       "      <td>14.7</td>\n",
       "      <td>All races/ ethnicities (aggregated)</td>\n",
       "      <td>2016</td>\n",
       "      <td>Adolescents with Obesity</td>\n",
       "    </tr>\n",
       "    <tr>\n",
       "      <th>5</th>\n",
       "      <td>Calvert</td>\n",
       "      <td>11.3</td>\n",
       "      <td>All races/ ethnicities (aggregated)</td>\n",
       "      <td>2016</td>\n",
       "      <td>Adolescents with Obesity</td>\n",
       "    </tr>\n",
       "    <tr>\n",
       "      <th>6</th>\n",
       "      <td>Caroline</td>\n",
       "      <td>16.0</td>\n",
       "      <td>All races/ ethnicities (aggregated)</td>\n",
       "      <td>2016</td>\n",
       "      <td>Adolescents with Obesity</td>\n",
       "    </tr>\n",
       "    <tr>\n",
       "      <th>7</th>\n",
       "      <td>Carroll</td>\n",
       "      <td>9.4</td>\n",
       "      <td>All races/ ethnicities (aggregated)</td>\n",
       "      <td>2016</td>\n",
       "      <td>Adolescents with Obesity</td>\n",
       "    </tr>\n",
       "    <tr>\n",
       "      <th>8</th>\n",
       "      <td>Cecil</td>\n",
       "      <td>16.3</td>\n",
       "      <td>All races/ ethnicities (aggregated)</td>\n",
       "      <td>2016</td>\n",
       "      <td>Adolescents with Obesity</td>\n",
       "    </tr>\n",
       "    <tr>\n",
       "      <th>9</th>\n",
       "      <td>Charles</td>\n",
       "      <td>13.0</td>\n",
       "      <td>All races/ ethnicities (aggregated)</td>\n",
       "      <td>2016</td>\n",
       "      <td>Adolescents with Obesity</td>\n",
       "    </tr>\n",
       "  </tbody>\n",
       "</table>\n",
       "</div>"
      ],
      "text/plain": [
       "       Jurisdiction  Value                      Race/ ethnicity  Year  \\\n",
       "0             State   12.6  All races/ ethnicities (aggregated)  2016   \n",
       "1          Allegany   16.1  All races/ ethnicities (aggregated)  2016   \n",
       "2      Anne Arundel   13.0  All races/ ethnicities (aggregated)  2016   \n",
       "3    Baltimore City   19.0  All races/ ethnicities (aggregated)  2016   \n",
       "4  Baltimore County   14.7  All races/ ethnicities (aggregated)  2016   \n",
       "5           Calvert   11.3  All races/ ethnicities (aggregated)  2016   \n",
       "6          Caroline   16.0  All races/ ethnicities (aggregated)  2016   \n",
       "7           Carroll    9.4  All races/ ethnicities (aggregated)  2016   \n",
       "8             Cecil   16.3  All races/ ethnicities (aggregated)  2016   \n",
       "9           Charles   13.0  All races/ ethnicities (aggregated)  2016   \n",
       "\n",
       "                    Measure  \n",
       "0  Adolescents with Obesity  \n",
       "1  Adolescents with Obesity  \n",
       "2  Adolescents with Obesity  \n",
       "3  Adolescents with Obesity  \n",
       "4  Adolescents with Obesity  \n",
       "5  Adolescents with Obesity  \n",
       "6  Adolescents with Obesity  \n",
       "7  Adolescents with Obesity  \n",
       "8  Adolescents with Obesity  \n",
       "9  Adolescents with Obesity  "
      ]
     },
     "execution_count": 37,
     "metadata": {},
     "output_type": "execute_result"
    }
   ],
   "source": [
    "# replace \"?\" to NaN\n",
    "df.replace(\"?\", np.nan, inplace = True)\n",
    "df.head(10)\n"
   ]
  },
  {
   "cell_type": "code",
   "execution_count": 39,
   "id": "6b48dcf5-cf29-4f6a-9361-8661708bfad0",
   "metadata": {},
   "outputs": [
    {
     "data": {
      "text/plain": [
       "<bound method DataFrame.info of          Jurisdiction  Value                                Race/ ethnicity  \\\n",
       "0               State   12.6            All races/ ethnicities (aggregated)   \n",
       "1            Allegany   16.1            All races/ ethnicities (aggregated)   \n",
       "2        Anne Arundel   13.0            All races/ ethnicities (aggregated)   \n",
       "3      Baltimore City   19.0            All races/ ethnicities (aggregated)   \n",
       "4    Baltimore County   14.7            All races/ ethnicities (aggregated)   \n",
       "..                ...    ...                                            ...   \n",
       "653            Talbot   24.1  Black or African American Non-Hispanic/Latino   \n",
       "654        Washington   18.8  Black or African American Non-Hispanic/Latino   \n",
       "655          Wicomico   29.7  Black or African American Non-Hispanic/Latino   \n",
       "656         Worcester   32.0  Black or African American Non-Hispanic/Latino   \n",
       "657    Baltimore City   23.0  Black or African American Non-Hispanic/Latino   \n",
       "\n",
       "     Year                   Measure  \n",
       "0    2016  Adolescents with Obesity  \n",
       "1    2016  Adolescents with Obesity  \n",
       "2    2016  Adolescents with Obesity  \n",
       "3    2016  Adolescents with Obesity  \n",
       "4    2016  Adolescents with Obesity  \n",
       "..    ...                       ...  \n",
       "653  2021  Adolescents with Obesity  \n",
       "654  2021  Adolescents with Obesity  \n",
       "655  2021  Adolescents with Obesity  \n",
       "656  2021  Adolescents with Obesity  \n",
       "657  2021  Adolescents with Obesity  \n",
       "\n",
       "[658 rows x 5 columns]>"
      ]
     },
     "execution_count": 39,
     "metadata": {},
     "output_type": "execute_result"
    }
   ],
   "source": [
    "df.info"
   ]
  },
  {
   "cell_type": "code",
   "execution_count": 21,
   "id": "61a0578b-efdb-4b30-805e-df1781a82c42",
   "metadata": {},
   "outputs": [
    {
     "data": {
      "text/html": [
       "<div>\n",
       "<style scoped>\n",
       "    .dataframe tbody tr th:only-of-type {\n",
       "        vertical-align: middle;\n",
       "    }\n",
       "\n",
       "    .dataframe tbody tr th {\n",
       "        vertical-align: top;\n",
       "    }\n",
       "\n",
       "    .dataframe thead th {\n",
       "        text-align: right;\n",
       "    }\n",
       "</style>\n",
       "<table border=\"1\" class=\"dataframe\">\n",
       "  <thead>\n",
       "    <tr style=\"text-align: right;\">\n",
       "      <th></th>\n",
       "      <th>Jurisdiction</th>\n",
       "      <th>Value</th>\n",
       "      <th>Race/ ethnicity</th>\n",
       "      <th>Year</th>\n",
       "      <th>Measure</th>\n",
       "    </tr>\n",
       "  </thead>\n",
       "  <tbody>\n",
       "    <tr>\n",
       "      <th>0</th>\n",
       "      <td>False</td>\n",
       "      <td>False</td>\n",
       "      <td>False</td>\n",
       "      <td>False</td>\n",
       "      <td>False</td>\n",
       "    </tr>\n",
       "    <tr>\n",
       "      <th>1</th>\n",
       "      <td>False</td>\n",
       "      <td>False</td>\n",
       "      <td>False</td>\n",
       "      <td>False</td>\n",
       "      <td>False</td>\n",
       "    </tr>\n",
       "    <tr>\n",
       "      <th>2</th>\n",
       "      <td>False</td>\n",
       "      <td>False</td>\n",
       "      <td>False</td>\n",
       "      <td>False</td>\n",
       "      <td>False</td>\n",
       "    </tr>\n",
       "    <tr>\n",
       "      <th>3</th>\n",
       "      <td>False</td>\n",
       "      <td>False</td>\n",
       "      <td>False</td>\n",
       "      <td>False</td>\n",
       "      <td>False</td>\n",
       "    </tr>\n",
       "    <tr>\n",
       "      <th>4</th>\n",
       "      <td>False</td>\n",
       "      <td>False</td>\n",
       "      <td>False</td>\n",
       "      <td>False</td>\n",
       "      <td>False</td>\n",
       "    </tr>\n",
       "    <tr>\n",
       "      <th>5</th>\n",
       "      <td>False</td>\n",
       "      <td>False</td>\n",
       "      <td>False</td>\n",
       "      <td>False</td>\n",
       "      <td>False</td>\n",
       "    </tr>\n",
       "    <tr>\n",
       "      <th>6</th>\n",
       "      <td>False</td>\n",
       "      <td>False</td>\n",
       "      <td>False</td>\n",
       "      <td>False</td>\n",
       "      <td>False</td>\n",
       "    </tr>\n",
       "    <tr>\n",
       "      <th>7</th>\n",
       "      <td>False</td>\n",
       "      <td>False</td>\n",
       "      <td>False</td>\n",
       "      <td>False</td>\n",
       "      <td>False</td>\n",
       "    </tr>\n",
       "    <tr>\n",
       "      <th>8</th>\n",
       "      <td>False</td>\n",
       "      <td>False</td>\n",
       "      <td>False</td>\n",
       "      <td>False</td>\n",
       "      <td>False</td>\n",
       "    </tr>\n",
       "    <tr>\n",
       "      <th>9</th>\n",
       "      <td>False</td>\n",
       "      <td>False</td>\n",
       "      <td>False</td>\n",
       "      <td>False</td>\n",
       "      <td>False</td>\n",
       "    </tr>\n",
       "  </tbody>\n",
       "</table>\n",
       "</div>"
      ],
      "text/plain": [
       "   Jurisdiction  Value  Race/ ethnicity   Year  Measure\n",
       "0         False  False            False  False    False\n",
       "1         False  False            False  False    False\n",
       "2         False  False            False  False    False\n",
       "3         False  False            False  False    False\n",
       "4         False  False            False  False    False\n",
       "5         False  False            False  False    False\n",
       "6         False  False            False  False    False\n",
       "7         False  False            False  False    False\n",
       "8         False  False            False  False    False\n",
       "9         False  False            False  False    False"
      ]
     },
     "execution_count": 21,
     "metadata": {},
     "output_type": "execute_result"
    }
   ],
   "source": [
    "# Evaluating for missing data\n",
    "missing_data = df.isnull()\n",
    "missing_data.head(10)\n"
   ]
  },
  {
   "cell_type": "code",
   "execution_count": 61,
   "id": "4f7cb1e7-7c48-4ea0-bd48-ee124774b0d8",
   "metadata": {},
   "outputs": [
    {
     "name": "stdout",
     "output_type": "stream",
     "text": [
      "Jurisdiction\n",
      "Jurisdiction\n",
      "False    658\n",
      "Name: count, dtype: int64\n",
      "\n",
      "Value\n",
      "Value\n",
      "False    551\n",
      "True     107\n",
      "Name: count, dtype: int64\n",
      "\n",
      "Race/ ethnicity\n",
      "Race/ ethnicity\n",
      "False    658\n",
      "Name: count, dtype: int64\n",
      "\n",
      "Year\n",
      "Year\n",
      "False    658\n",
      "Name: count, dtype: int64\n",
      "\n",
      "Measure\n",
      "Measure\n",
      "False    658\n",
      "Name: count, dtype: int64\n",
      "\n"
     ]
    }
   ],
   "source": [
    "# Count missing values in each column\n",
    "\n",
    "for column in missing_data.columns.values.tolist():\n",
    "    print(column)\n",
    "    print (missing_data[column].value_counts())\n",
    "    print(\"\") \n"
   ]
  },
  {
   "cell_type": "code",
   "execution_count": 65,
   "id": "df9f537d-ccc3-41ac-94be-fbfb9bb545d0",
   "metadata": {},
   "outputs": [
    {
     "name": "stdout",
     "output_type": "stream",
     "text": [
      "Average of Value: 14.104718693284935\n"
     ]
    }
   ],
   "source": [
    "# Calculate the mean value for the \"Value\" column \n",
    "\n",
    "Value = df[\"Value\"].astype(\"float\").mean(axis=0)\n",
    "print(\"Average of Value:\", Value)\n"
   ]
  },
  {
   "cell_type": "code",
   "execution_count": 67,
   "id": "0159a351-21e3-4da0-a611-86d62274de84",
   "metadata": {},
   "outputs": [
    {
     "data": {
      "text/plain": [
       "0      12.6\n",
       "1      16.1\n",
       "2      13.0\n",
       "3      19.0\n",
       "4      14.7\n",
       "       ... \n",
       "653    24.1\n",
       "654    18.8\n",
       "655    29.7\n",
       "656    32.0\n",
       "657    23.0\n",
       "Name: Value, Length: 658, dtype: float64"
      ]
     },
     "execution_count": 67,
     "metadata": {},
     "output_type": "execute_result"
    }
   ],
   "source": [
    "# Replace \"NaN\" with mean value in \"Value\" column\n",
    "df[\"Value\"].replace(np.nan, Value)"
   ]
  },
  {
   "cell_type": "code",
   "execution_count": 69,
   "id": "895f24b4-8abe-4e19-8d3b-ae309d0b0ae8",
   "metadata": {},
   "outputs": [
    {
     "data": {
      "text/plain": [
       "Value\n",
       "9.6     9\n",
       "12.9    9\n",
       "11.1    8\n",
       "14.8    8\n",
       "18.8    8\n",
       "       ..\n",
       "11.2    1\n",
       "7.2     1\n",
       "7.3     1\n",
       "4.1     1\n",
       "23.0    1\n",
       "Name: count, Length: 195, dtype: int64"
      ]
     },
     "execution_count": 69,
     "metadata": {},
     "output_type": "execute_result"
    }
   ],
   "source": [
    "# To see which values are present in a particular column, we can use the \".value_counts()\" method:\n",
    "\n",
    "df['Value'].value_counts()\n"
   ]
  },
  {
   "cell_type": "code",
   "execution_count": 87,
   "id": "0762b513-c7e9-4dd0-9195-ebb1ff3a48aa",
   "metadata": {},
   "outputs": [
    {
     "data": {
      "text/html": [
       "<div>\n",
       "<style scoped>\n",
       "    .dataframe tbody tr th:only-of-type {\n",
       "        vertical-align: middle;\n",
       "    }\n",
       "\n",
       "    .dataframe tbody tr th {\n",
       "        vertical-align: top;\n",
       "    }\n",
       "\n",
       "    .dataframe thead th {\n",
       "        text-align: right;\n",
       "    }\n",
       "</style>\n",
       "<table border=\"1\" class=\"dataframe\">\n",
       "  <thead>\n",
       "    <tr style=\"text-align: right;\">\n",
       "      <th></th>\n",
       "      <th>Jurisdiction</th>\n",
       "      <th>Value</th>\n",
       "      <th>Race/ ethnicity</th>\n",
       "      <th>Year</th>\n",
       "      <th>Measure</th>\n",
       "    </tr>\n",
       "  </thead>\n",
       "  <tbody>\n",
       "    <tr>\n",
       "      <th>0</th>\n",
       "      <td>State</td>\n",
       "      <td>12.6</td>\n",
       "      <td>All races/ ethnicities (aggregated)</td>\n",
       "      <td>2016</td>\n",
       "      <td>Adolescents with Obesity</td>\n",
       "    </tr>\n",
       "    <tr>\n",
       "      <th>1</th>\n",
       "      <td>Allegany</td>\n",
       "      <td>16.1</td>\n",
       "      <td>All races/ ethnicities (aggregated)</td>\n",
       "      <td>2016</td>\n",
       "      <td>Adolescents with Obesity</td>\n",
       "    </tr>\n",
       "    <tr>\n",
       "      <th>2</th>\n",
       "      <td>Anne Arundel</td>\n",
       "      <td>13.0</td>\n",
       "      <td>All races/ ethnicities (aggregated)</td>\n",
       "      <td>2016</td>\n",
       "      <td>Adolescents with Obesity</td>\n",
       "    </tr>\n",
       "    <tr>\n",
       "      <th>3</th>\n",
       "      <td>Baltimore City</td>\n",
       "      <td>19.0</td>\n",
       "      <td>All races/ ethnicities (aggregated)</td>\n",
       "      <td>2016</td>\n",
       "      <td>Adolescents with Obesity</td>\n",
       "    </tr>\n",
       "    <tr>\n",
       "      <th>4</th>\n",
       "      <td>Baltimore County</td>\n",
       "      <td>14.7</td>\n",
       "      <td>All races/ ethnicities (aggregated)</td>\n",
       "      <td>2016</td>\n",
       "      <td>Adolescents with Obesity</td>\n",
       "    </tr>\n",
       "    <tr>\n",
       "      <th>...</th>\n",
       "      <td>...</td>\n",
       "      <td>...</td>\n",
       "      <td>...</td>\n",
       "      <td>...</td>\n",
       "      <td>...</td>\n",
       "    </tr>\n",
       "    <tr>\n",
       "      <th>653</th>\n",
       "      <td>Talbot</td>\n",
       "      <td>24.1</td>\n",
       "      <td>Black or African American Non-Hispanic/Latino</td>\n",
       "      <td>2021</td>\n",
       "      <td>Adolescents with Obesity</td>\n",
       "    </tr>\n",
       "    <tr>\n",
       "      <th>654</th>\n",
       "      <td>Washington</td>\n",
       "      <td>18.8</td>\n",
       "      <td>Black or African American Non-Hispanic/Latino</td>\n",
       "      <td>2021</td>\n",
       "      <td>Adolescents with Obesity</td>\n",
       "    </tr>\n",
       "    <tr>\n",
       "      <th>655</th>\n",
       "      <td>Wicomico</td>\n",
       "      <td>29.7</td>\n",
       "      <td>Black or African American Non-Hispanic/Latino</td>\n",
       "      <td>2021</td>\n",
       "      <td>Adolescents with Obesity</td>\n",
       "    </tr>\n",
       "    <tr>\n",
       "      <th>656</th>\n",
       "      <td>Worcester</td>\n",
       "      <td>32.0</td>\n",
       "      <td>Black or African American Non-Hispanic/Latino</td>\n",
       "      <td>2021</td>\n",
       "      <td>Adolescents with Obesity</td>\n",
       "    </tr>\n",
       "    <tr>\n",
       "      <th>657</th>\n",
       "      <td>Baltimore City</td>\n",
       "      <td>23.0</td>\n",
       "      <td>Black or African American Non-Hispanic/Latino</td>\n",
       "      <td>2021</td>\n",
       "      <td>Adolescents with Obesity</td>\n",
       "    </tr>\n",
       "  </tbody>\n",
       "</table>\n",
       "<p>551 rows × 5 columns</p>\n",
       "</div>"
      ],
      "text/plain": [
       "         Jurisdiction  Value                                Race/ ethnicity  \\\n",
       "0               State   12.6            All races/ ethnicities (aggregated)   \n",
       "1            Allegany   16.1            All races/ ethnicities (aggregated)   \n",
       "2        Anne Arundel   13.0            All races/ ethnicities (aggregated)   \n",
       "3      Baltimore City   19.0            All races/ ethnicities (aggregated)   \n",
       "4    Baltimore County   14.7            All races/ ethnicities (aggregated)   \n",
       "..                ...    ...                                            ...   \n",
       "653            Talbot   24.1  Black or African American Non-Hispanic/Latino   \n",
       "654        Washington   18.8  Black or African American Non-Hispanic/Latino   \n",
       "655          Wicomico   29.7  Black or African American Non-Hispanic/Latino   \n",
       "656         Worcester   32.0  Black or African American Non-Hispanic/Latino   \n",
       "657    Baltimore City   23.0  Black or African American Non-Hispanic/Latino   \n",
       "\n",
       "     Year                   Measure  \n",
       "0    2016  Adolescents with Obesity  \n",
       "1    2016  Adolescents with Obesity  \n",
       "2    2016  Adolescents with Obesity  \n",
       "3    2016  Adolescents with Obesity  \n",
       "4    2016  Adolescents with Obesity  \n",
       "..    ...                       ...  \n",
       "653  2021  Adolescents with Obesity  \n",
       "654  2021  Adolescents with Obesity  \n",
       "655  2021  Adolescents with Obesity  \n",
       "656  2021  Adolescents with Obesity  \n",
       "657  2021  Adolescents with Obesity  \n",
       "\n",
       "[551 rows x 5 columns]"
      ]
     },
     "execution_count": 87,
     "metadata": {},
     "output_type": "execute_result"
    }
   ],
   "source": [
    "# Drop all rows that do not have Value data:\n",
    "\n",
    "# simply drop whole row with NaN in \"Value\" column\n",
    "df.dropna(subset=[\"Value\"], axis=0)\n"
   ]
  },
  {
   "cell_type": "code",
   "execution_count": 89,
   "id": "b34c95bc-b336-4291-ba5a-ce542aa26fb0",
   "metadata": {},
   "outputs": [
    {
     "data": {
      "text/html": [
       "<div>\n",
       "<style scoped>\n",
       "    .dataframe tbody tr th:only-of-type {\n",
       "        vertical-align: middle;\n",
       "    }\n",
       "\n",
       "    .dataframe tbody tr th {\n",
       "        vertical-align: top;\n",
       "    }\n",
       "\n",
       "    .dataframe thead th {\n",
       "        text-align: right;\n",
       "    }\n",
       "</style>\n",
       "<table border=\"1\" class=\"dataframe\">\n",
       "  <thead>\n",
       "    <tr style=\"text-align: right;\">\n",
       "      <th></th>\n",
       "      <th>Jurisdiction</th>\n",
       "      <th>Value</th>\n",
       "      <th>Race/ ethnicity</th>\n",
       "      <th>Year</th>\n",
       "      <th>Measure</th>\n",
       "    </tr>\n",
       "  </thead>\n",
       "  <tbody>\n",
       "    <tr>\n",
       "      <th>0</th>\n",
       "      <td>State</td>\n",
       "      <td>12.6</td>\n",
       "      <td>All races/ ethnicities (aggregated)</td>\n",
       "      <td>2016</td>\n",
       "      <td>Adolescents with Obesity</td>\n",
       "    </tr>\n",
       "    <tr>\n",
       "      <th>1</th>\n",
       "      <td>Allegany</td>\n",
       "      <td>16.1</td>\n",
       "      <td>All races/ ethnicities (aggregated)</td>\n",
       "      <td>2016</td>\n",
       "      <td>Adolescents with Obesity</td>\n",
       "    </tr>\n",
       "    <tr>\n",
       "      <th>2</th>\n",
       "      <td>Anne Arundel</td>\n",
       "      <td>13.0</td>\n",
       "      <td>All races/ ethnicities (aggregated)</td>\n",
       "      <td>2016</td>\n",
       "      <td>Adolescents with Obesity</td>\n",
       "    </tr>\n",
       "    <tr>\n",
       "      <th>3</th>\n",
       "      <td>Baltimore City</td>\n",
       "      <td>19.0</td>\n",
       "      <td>All races/ ethnicities (aggregated)</td>\n",
       "      <td>2016</td>\n",
       "      <td>Adolescents with Obesity</td>\n",
       "    </tr>\n",
       "    <tr>\n",
       "      <th>4</th>\n",
       "      <td>Baltimore County</td>\n",
       "      <td>14.7</td>\n",
       "      <td>All races/ ethnicities (aggregated)</td>\n",
       "      <td>2016</td>\n",
       "      <td>Adolescents with Obesity</td>\n",
       "    </tr>\n",
       "    <tr>\n",
       "      <th>...</th>\n",
       "      <td>...</td>\n",
       "      <td>...</td>\n",
       "      <td>...</td>\n",
       "      <td>...</td>\n",
       "      <td>...</td>\n",
       "    </tr>\n",
       "    <tr>\n",
       "      <th>653</th>\n",
       "      <td>Talbot</td>\n",
       "      <td>24.1</td>\n",
       "      <td>Black or African American Non-Hispanic/Latino</td>\n",
       "      <td>2021</td>\n",
       "      <td>Adolescents with Obesity</td>\n",
       "    </tr>\n",
       "    <tr>\n",
       "      <th>654</th>\n",
       "      <td>Washington</td>\n",
       "      <td>18.8</td>\n",
       "      <td>Black or African American Non-Hispanic/Latino</td>\n",
       "      <td>2021</td>\n",
       "      <td>Adolescents with Obesity</td>\n",
       "    </tr>\n",
       "    <tr>\n",
       "      <th>655</th>\n",
       "      <td>Wicomico</td>\n",
       "      <td>29.7</td>\n",
       "      <td>Black or African American Non-Hispanic/Latino</td>\n",
       "      <td>2021</td>\n",
       "      <td>Adolescents with Obesity</td>\n",
       "    </tr>\n",
       "    <tr>\n",
       "      <th>656</th>\n",
       "      <td>Worcester</td>\n",
       "      <td>32.0</td>\n",
       "      <td>Black or African American Non-Hispanic/Latino</td>\n",
       "      <td>2021</td>\n",
       "      <td>Adolescents with Obesity</td>\n",
       "    </tr>\n",
       "    <tr>\n",
       "      <th>657</th>\n",
       "      <td>Baltimore City</td>\n",
       "      <td>23.0</td>\n",
       "      <td>Black or African American Non-Hispanic/Latino</td>\n",
       "      <td>2021</td>\n",
       "      <td>Adolescents with Obesity</td>\n",
       "    </tr>\n",
       "  </tbody>\n",
       "</table>\n",
       "<p>658 rows × 5 columns</p>\n",
       "</div>"
      ],
      "text/plain": [
       "         Jurisdiction  Value                                Race/ ethnicity  \\\n",
       "0               State   12.6            All races/ ethnicities (aggregated)   \n",
       "1            Allegany   16.1            All races/ ethnicities (aggregated)   \n",
       "2        Anne Arundel   13.0            All races/ ethnicities (aggregated)   \n",
       "3      Baltimore City   19.0            All races/ ethnicities (aggregated)   \n",
       "4    Baltimore County   14.7            All races/ ethnicities (aggregated)   \n",
       "..                ...    ...                                            ...   \n",
       "653            Talbot   24.1  Black or African American Non-Hispanic/Latino   \n",
       "654        Washington   18.8  Black or African American Non-Hispanic/Latino   \n",
       "655          Wicomico   29.7  Black or African American Non-Hispanic/Latino   \n",
       "656         Worcester   32.0  Black or African American Non-Hispanic/Latino   \n",
       "657    Baltimore City   23.0  Black or African American Non-Hispanic/Latino   \n",
       "\n",
       "     Year                   Measure  \n",
       "0    2016  Adolescents with Obesity  \n",
       "1    2016  Adolescents with Obesity  \n",
       "2    2016  Adolescents with Obesity  \n",
       "3    2016  Adolescents with Obesity  \n",
       "4    2016  Adolescents with Obesity  \n",
       "..    ...                       ...  \n",
       "653  2021  Adolescents with Obesity  \n",
       "654  2021  Adolescents with Obesity  \n",
       "655  2021  Adolescents with Obesity  \n",
       "656  2021  Adolescents with Obesity  \n",
       "657  2021  Adolescents with Obesity  \n",
       "\n",
       "[658 rows x 5 columns]"
      ]
     },
     "execution_count": 89,
     "metadata": {},
     "output_type": "execute_result"
    }
   ],
   "source": [
    "# Reset index, because we droped two rows\n",
    "df.reset_index(drop=True)\n"
   ]
  },
  {
   "cell_type": "code",
   "execution_count": 91,
   "id": "cefb783a-07a1-41e0-940d-08f07a6b04a2",
   "metadata": {},
   "outputs": [
    {
     "data": {
      "text/plain": [
       "<bound method DataFrame.info of          Jurisdiction  Value                                Race/ ethnicity  \\\n",
       "0               State   12.6            All races/ ethnicities (aggregated)   \n",
       "1            Allegany   16.1            All races/ ethnicities (aggregated)   \n",
       "2        Anne Arundel   13.0            All races/ ethnicities (aggregated)   \n",
       "3      Baltimore City   19.0            All races/ ethnicities (aggregated)   \n",
       "4    Baltimore County   14.7            All races/ ethnicities (aggregated)   \n",
       "..                ...    ...                                            ...   \n",
       "653            Talbot   24.1  Black or African American Non-Hispanic/Latino   \n",
       "654        Washington   18.8  Black or African American Non-Hispanic/Latino   \n",
       "655          Wicomico   29.7  Black or African American Non-Hispanic/Latino   \n",
       "656         Worcester   32.0  Black or African American Non-Hispanic/Latino   \n",
       "657    Baltimore City   23.0  Black or African American Non-Hispanic/Latino   \n",
       "\n",
       "     Year                   Measure  \n",
       "0    2016  Adolescents with Obesity  \n",
       "1    2016  Adolescents with Obesity  \n",
       "2    2016  Adolescents with Obesity  \n",
       "3    2016  Adolescents with Obesity  \n",
       "4    2016  Adolescents with Obesity  \n",
       "..    ...                       ...  \n",
       "653  2021  Adolescents with Obesity  \n",
       "654  2021  Adolescents with Obesity  \n",
       "655  2021  Adolescents with Obesity  \n",
       "656  2021  Adolescents with Obesity  \n",
       "657  2021  Adolescents with Obesity  \n",
       "\n",
       "[658 rows x 5 columns]>"
      ]
     },
     "execution_count": 91,
     "metadata": {},
     "output_type": "execute_result"
    }
   ],
   "source": [
    "df.info"
   ]
  },
  {
   "cell_type": "code",
   "execution_count": 95,
   "id": "4b38b542-58a1-4e26-9633-c0f537702d0d",
   "metadata": {},
   "outputs": [
    {
     "data": {
      "text/plain": [
       "Jurisdiction        object\n",
       "Value              float64\n",
       "Race/ ethnicity     object\n",
       "Year                 int64\n",
       "Measure             object\n",
       "dtype: object"
      ]
     },
     "execution_count": 95,
     "metadata": {},
     "output_type": "execute_result"
    }
   ],
   "source": [
    "# The last step in data cleaning is checking and making sure that all data is in the correct format (int, float, text or other).\n",
    "\n",
    "df.dtypes \n"
   ]
  },
  {
   "cell_type": "code",
   "execution_count": 119,
   "id": "703dffb1-5e79-40ef-902e-91e4dec3573e",
   "metadata": {},
   "outputs": [
    {
     "data": {
      "text/html": [
       "<div>\n",
       "<style scoped>\n",
       "    .dataframe tbody tr th:only-of-type {\n",
       "        vertical-align: middle;\n",
       "    }\n",
       "\n",
       "    .dataframe tbody tr th {\n",
       "        vertical-align: top;\n",
       "    }\n",
       "\n",
       "    .dataframe thead th {\n",
       "        text-align: right;\n",
       "    }\n",
       "</style>\n",
       "<table border=\"1\" class=\"dataframe\">\n",
       "  <thead>\n",
       "    <tr style=\"text-align: right;\">\n",
       "      <th></th>\n",
       "      <th>Value</th>\n",
       "      <th>Year</th>\n",
       "    </tr>\n",
       "  </thead>\n",
       "  <tbody>\n",
       "    <tr>\n",
       "      <th>Value</th>\n",
       "      <td>1.000000</td>\n",
       "      <td>0.380072</td>\n",
       "    </tr>\n",
       "    <tr>\n",
       "      <th>Year</th>\n",
       "      <td>0.380072</td>\n",
       "      <td>1.000000</td>\n",
       "    </tr>\n",
       "  </tbody>\n",
       "</table>\n",
       "</div>"
      ],
      "text/plain": [
       "          Value      Year\n",
       "Value  1.000000  0.380072\n",
       "Year   0.380072  1.000000"
      ]
     },
     "execution_count": 119,
     "metadata": {},
     "output_type": "execute_result"
    }
   ],
   "source": [
    "# Find the correlation between the following columns: Value, Year\n",
    "\n",
    "df[[\"Value\", \"Year\"]].corr()"
   ]
  },
  {
   "cell_type": "code",
   "execution_count": 129,
   "id": "0815234a-1488-462a-bbeb-a0b736dccd1a",
   "metadata": {},
   "outputs": [
    {
     "data": {
      "text/plain": [
       "<Axes: xlabel='Year', ylabel='Value'>"
      ]
     },
     "execution_count": 129,
     "metadata": {},
     "output_type": "execute_result"
    },
    {
     "data": {
      "image/png": "[encoded data removed]",
      "text/plain": [
       "<Figure size 640x480 with 1 Axes>"
      ]
     },
     "metadata": {},
     "output_type": "display_data"
    }
   ],
   "source": [
    "# Regression Plto to visualize the relationship between Value and Year.\n",
    "sns.regplot(y='Value', x='Year', data=df)\n"
   ]
  },
  {
   "cell_type": "code",
   "execution_count": 125,
   "id": "436658be-1a1d-42ce-9d7e-4626cf20b934",
   "metadata": {},
   "outputs": [
    {
     "data": {
      "text/plain": [
       "<Axes: xlabel='Value', ylabel='Race/ ethnicity'>"
      ]
     },
     "execution_count": 125,
     "metadata": {},
     "output_type": "execute_result"
    },
    {
     "data": {
      "image/png": "[encoded data removed]",
      "text/plain": [
       "<Figure size 640x480 with 1 Axes>"
      ]
     },
     "metadata": {},
     "output_type": "display_data"
    }
   ],
   "source": [
    "# Let's look at the relationship between Race/ ethnicity and \"Value.\n",
    "sns.boxplot(x=\"Value\", y=\"Race/ ethnicity\", data=df)\n"
   ]
  },
  {
   "cell_type": "code",
   "execution_count": 127,
   "id": "b17609be-4571-4f8b-86d8-14c6b0d810ff",
   "metadata": {},
   "outputs": [
    {
     "data": {
      "text/plain": [
       "<Axes: xlabel='Value', ylabel='Jurisdiction'>"
      ]
     },
     "execution_count": 127,
     "metadata": {},
     "output_type": "execute_result"
    },
    {
     "data": {
      "image/png": "[encoded data removed]",
      "text/plain": [
       "<Figure size 640x480 with 1 Axes>"
      ]
     },
     "metadata": {},
     "output_type": "display_data"
    }
   ],
   "source": [
    "# Let's look at the relationship between Jurisdiction and \"Value.\n",
    "sns.boxplot(x=\"Value\", y=\"Jurisdiction\", data=df)"
   ]
  },
  {
   "cell_type": "code",
   "execution_count": 123,
   "id": "9ff66ddc-59f4-4d3b-b356-84585b211d99",
   "metadata": {},
   "outputs": [
    {
     "data": {
      "text/plain": [
       "<Axes: xlabel='Year', ylabel='Race/ ethnicity'>"
      ]
     },
     "execution_count": 123,
     "metadata": {},
     "output_type": "execute_result"
    },
    {
     "data": {
      "image/png": "[encoded data removed]",
      "text/plain": [
       "<Figure size 640x480 with 1 Axes>"
      ]
     },
     "metadata": {},
     "output_type": "display_data"
    }
   ],
   "source": [
    "# Let's look at the relationship between Year and Race/ ethnicity.\n",
    "sns.boxplot(x=\"Year\", y=\"Race/ ethnicity\", data=df)"
   ]
  },
  {
   "cell_type": "code",
   "execution_count": 115,
   "id": "38ec4535-1c12-477e-8a1c-2cfc98fb989d",
   "metadata": {},
   "outputs": [
    {
     "data": {
      "text/html": [
       "<div>\n",
       "<style scoped>\n",
       "    .dataframe tbody tr th:only-of-type {\n",
       "        vertical-align: middle;\n",
       "    }\n",
       "\n",
       "    .dataframe tbody tr th {\n",
       "        vertical-align: top;\n",
       "    }\n",
       "\n",
       "    .dataframe thead th {\n",
       "        text-align: right;\n",
       "    }\n",
       "</style>\n",
       "<table border=\"1\" class=\"dataframe\">\n",
       "  <thead>\n",
       "    <tr style=\"text-align: right;\">\n",
       "      <th></th>\n",
       "      <th>Value</th>\n",
       "      <th>Year</th>\n",
       "    </tr>\n",
       "  </thead>\n",
       "  <tbody>\n",
       "    <tr>\n",
       "      <th>count</th>\n",
       "      <td>551.000000</td>\n",
       "      <td>658.000000</td>\n",
       "    </tr>\n",
       "    <tr>\n",
       "      <th>mean</th>\n",
       "      <td>14.104719</td>\n",
       "      <td>2015.220365</td>\n",
       "    </tr>\n",
       "    <tr>\n",
       "      <th>std</th>\n",
       "      <td>5.005220</td>\n",
       "      <td>3.685722</td>\n",
       "    </tr>\n",
       "    <tr>\n",
       "      <th>min</th>\n",
       "      <td>3.200000</td>\n",
       "      <td>2010.000000</td>\n",
       "    </tr>\n",
       "    <tr>\n",
       "      <th>25%</th>\n",
       "      <td>10.650000</td>\n",
       "      <td>2013.000000</td>\n",
       "    </tr>\n",
       "    <tr>\n",
       "      <th>50%</th>\n",
       "      <td>13.600000</td>\n",
       "      <td>2014.000000</td>\n",
       "    </tr>\n",
       "    <tr>\n",
       "      <th>75%</th>\n",
       "      <td>17.100000</td>\n",
       "      <td>2018.000000</td>\n",
       "    </tr>\n",
       "    <tr>\n",
       "      <th>max</th>\n",
       "      <td>32.200000</td>\n",
       "      <td>2021.000000</td>\n",
       "    </tr>\n",
       "  </tbody>\n",
       "</table>\n",
       "</div>"
      ],
      "text/plain": [
       "            Value         Year\n",
       "count  551.000000   658.000000\n",
       "mean    14.104719  2015.220365\n",
       "std      5.005220     3.685722\n",
       "min      3.200000  2010.000000\n",
       "25%     10.650000  2013.000000\n",
       "50%     13.600000  2014.000000\n",
       "75%     17.100000  2018.000000\n",
       "max     32.200000  2021.000000"
      ]
     },
     "execution_count": 115,
     "metadata": {},
     "output_type": "execute_result"
    }
   ],
   "source": [
    "df.describe()"
   ]
  },
  {
   "cell_type": "code",
   "execution_count": 113,
   "id": "3f845c06-8627-4bd7-8c21-6104b1ab5001",
   "metadata": {},
   "outputs": [
    {
     "data": {
      "text/html": [
       "<div>\n",
       "<style scoped>\n",
       "    .dataframe tbody tr th:only-of-type {\n",
       "        vertical-align: middle;\n",
       "    }\n",
       "\n",
       "    .dataframe tbody tr th {\n",
       "        vertical-align: top;\n",
       "    }\n",
       "\n",
       "    .dataframe thead th {\n",
       "        text-align: right;\n",
       "    }\n",
       "</style>\n",
       "<table border=\"1\" class=\"dataframe\">\n",
       "  <thead>\n",
       "    <tr style=\"text-align: right;\">\n",
       "      <th></th>\n",
       "      <th>Jurisdiction</th>\n",
       "      <th>Race/ ethnicity</th>\n",
       "      <th>Measure</th>\n",
       "    </tr>\n",
       "  </thead>\n",
       "  <tbody>\n",
       "    <tr>\n",
       "      <th>count</th>\n",
       "      <td>658</td>\n",
       "      <td>658</td>\n",
       "      <td>658</td>\n",
       "    </tr>\n",
       "    <tr>\n",
       "      <th>unique</th>\n",
       "      <td>25</td>\n",
       "      <td>9</td>\n",
       "      <td>1</td>\n",
       "    </tr>\n",
       "    <tr>\n",
       "      <th>top</th>\n",
       "      <td>State</td>\n",
       "      <td>All races/ ethnicities (aggregated)</td>\n",
       "      <td>Adolescents with Obesity</td>\n",
       "    </tr>\n",
       "    <tr>\n",
       "      <th>freq</th>\n",
       "      <td>28</td>\n",
       "      <td>150</td>\n",
       "      <td>658</td>\n",
       "    </tr>\n",
       "  </tbody>\n",
       "</table>\n",
       "</div>"
      ],
      "text/plain": [
       "       Jurisdiction                      Race/ ethnicity  \\\n",
       "count           658                                  658   \n",
       "unique           25                                    9   \n",
       "top           State  All races/ ethnicities (aggregated)   \n",
       "freq             28                                  150   \n",
       "\n",
       "                         Measure  \n",
       "count                        658  \n",
       "unique                         1  \n",
       "top     Adolescents with Obesity  \n",
       "freq                         658  "
      ]
     },
     "execution_count": 113,
     "metadata": {},
     "output_type": "execute_result"
    }
   ],
   "source": [
    "df.describe(include=['object'])"
   ]
  },
  {
   "cell_type": "code",
   "execution_count": null,
   "id": "903e32a9-0e12-4613-9393-a5fe2a020645",
   "metadata": {},
   "outputs": [],
   "source": []
  }
 ],
 "metadata": {
  "kernelspec": {
   "display_name": "Python [conda env:base] *",
   "language": "python",
   "name": "conda-base-py"
  },
  "language_info": {
   "codemirror_mode": {
    "name": "ipython",
    "version": 3
   },
   "file_extension": ".py",
   "mimetype": "text/x-python",
   "name": "python",
   "nbconvert_exporter": "python",
   "pygments_lexer": "ipython3",
   "version": "3.12.7"
  }
 },
 "nbformat": 4,
 "nbformat_minor": 5
}
